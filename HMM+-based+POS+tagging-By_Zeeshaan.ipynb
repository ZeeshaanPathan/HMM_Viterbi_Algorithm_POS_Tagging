{
 "cells": [
  {
   "cell_type": "markdown",
   "metadata": {},
   "source": [
    "## POS tagging using modified Viterbi"
   ]
  },
  {
   "cell_type": "markdown",
   "metadata": {},
   "source": [
    "### Data Preparation"
   ]
  },
  {
   "cell_type": "code",
   "execution_count": 67,
   "metadata": {},
   "outputs": [],
   "source": [
    "#Importing libraries\n",
    "import nltk, re, pprint\n",
    "import numpy as np\n",
    "import pandas as pd\n",
    "import requests\n",
    "import matplotlib.pyplot as plt\n",
    "import seaborn as sns\n",
    "import pprint, time\n",
    "import random\n",
    "from sklearn.model_selection import train_test_split\n",
    "from nltk.tokenize import word_tokenize"
   ]
  },
  {
   "cell_type": "code",
   "execution_count": 68,
   "metadata": {},
   "outputs": [],
   "source": [
    "# reading the Treebank tagged sentences\n",
    "nltk_data = list(nltk.corpus.treebank.tagged_sents(tagset='universal'))"
   ]
  },
  {
   "cell_type": "code",
   "execution_count": 69,
   "metadata": {},
   "outputs": [
    {
     "data": {
      "text/plain": [
       "[[('Pierre', 'NOUN'),\n",
       "  ('Vinken', 'NOUN'),\n",
       "  (',', '.'),\n",
       "  ('61', 'NUM'),\n",
       "  ('years', 'NOUN'),\n",
       "  ('old', 'ADJ'),\n",
       "  (',', '.'),\n",
       "  ('will', 'VERB'),\n",
       "  ('join', 'VERB'),\n",
       "  ('the', 'DET'),\n",
       "  ('board', 'NOUN'),\n",
       "  ('as', 'ADP'),\n",
       "  ('a', 'DET'),\n",
       "  ('nonexecutive', 'ADJ'),\n",
       "  ('director', 'NOUN'),\n",
       "  ('Nov.', 'NOUN'),\n",
       "  ('29', 'NUM'),\n",
       "  ('.', '.')],\n",
       " [('Mr.', 'NOUN'),\n",
       "  ('Vinken', 'NOUN'),\n",
       "  ('is', 'VERB'),\n",
       "  ('chairman', 'NOUN'),\n",
       "  ('of', 'ADP'),\n",
       "  ('Elsevier', 'NOUN'),\n",
       "  ('N.V.', 'NOUN'),\n",
       "  (',', '.'),\n",
       "  ('the', 'DET'),\n",
       "  ('Dutch', 'NOUN'),\n",
       "  ('publishing', 'VERB'),\n",
       "  ('group', 'NOUN'),\n",
       "  ('.', '.')],\n",
       " [('Rudolph', 'NOUN'),\n",
       "  ('Agnew', 'NOUN'),\n",
       "  (',', '.'),\n",
       "  ('55', 'NUM'),\n",
       "  ('years', 'NOUN'),\n",
       "  ('old', 'ADJ'),\n",
       "  ('and', 'CONJ'),\n",
       "  ('former', 'ADJ'),\n",
       "  ('chairman', 'NOUN'),\n",
       "  ('of', 'ADP'),\n",
       "  ('Consolidated', 'NOUN'),\n",
       "  ('Gold', 'NOUN'),\n",
       "  ('Fields', 'NOUN'),\n",
       "  ('PLC', 'NOUN'),\n",
       "  (',', '.'),\n",
       "  ('was', 'VERB'),\n",
       "  ('named', 'VERB'),\n",
       "  ('*-1', 'X'),\n",
       "  ('a', 'DET'),\n",
       "  ('nonexecutive', 'ADJ'),\n",
       "  ('director', 'NOUN'),\n",
       "  ('of', 'ADP'),\n",
       "  ('this', 'DET'),\n",
       "  ('British', 'ADJ'),\n",
       "  ('industrial', 'ADJ'),\n",
       "  ('conglomerate', 'NOUN'),\n",
       "  ('.', '.')]]"
      ]
     },
     "execution_count": 69,
     "metadata": {},
     "output_type": "execute_result"
    }
   ],
   "source": [
    "# Each sentence is a list of (word, pos) tuples\n",
    "nltk_data[:3]"
   ]
  },
  {
   "cell_type": "code",
   "execution_count": 70,
   "metadata": {},
   "outputs": [
    {
     "name": "stdout",
     "output_type": "stream",
     "text": [
      "3718\n",
      "196\n",
      "[[('The', 'DET'), ('service', 'NOUN'), ('--', '.'), ('which', 'DET'), ('*T*-2', 'X'), ('costs', 'VERB'), ('the', 'DET'), ('caller', 'NOUN'), ('from', 'ADP'), ('30', 'NUM'), ('cents', 'NOUN'), ('to', 'PRT'), ('$', '.'), ('25', 'NUM'), ('*U*', 'X'), ('a', 'DET'), ('minute', 'NOUN'), ('--', '.'), ('currently', 'ADV'), ('is', 'VERB'), ('dominated', 'VERB'), ('*-1', 'X'), ('by', 'ADP'), ('celebrity', 'NOUN'), ('chatter', 'NOUN'), (',', '.'), ('horoscopes', 'NOUN'), ('and', 'CONJ'), ('romance', 'NOUN'), ('lines', 'NOUN'), ('.', '.')], [('But', 'CONJ'), ('we', 'PRON'), ('are', 'VERB'), ('not', 'ADV'), ('going', 'VERB'), ('back', 'ADV'), ('to', 'PRT'), ('1970', 'NUM'), ('.', '.'), (\"''\", '.')], [('``', '.'), ('*', 'X'), ('Consider', 'VERB'), ('Jim', 'NOUN'), ('Courter', 'NOUN'), ('.', '.'), (\"''\", '.')], [('The', 'DET'), ('sale', 'NOUN'), ('represents', 'VERB'), ('10.2', 'NUM'), ('%', 'NOUN'), ('of', 'ADP'), ('Meridian', 'NOUN'), (\"'s\", 'PRT'), ('shares', 'NOUN'), ('outstanding', 'ADJ'), ('.', '.')], [('I', 'PRON'), (\"'m\", 'VERB'), ('not', 'ADV'), ('saying', 'VERB'), ('0', 'X'), ('advertising', 'NOUN'), ('revenue', 'NOUN'), ('is', 'VERB'), (\"n't\", 'ADV'), ('important', 'ADJ'), (',', '.'), (\"''\", '.'), ('she', 'PRON'), ('says', 'VERB'), ('0', 'X'), ('*T*-1', 'X'), (',', '.'), ('``', '.'), ('but', 'CONJ'), ('I', 'PRON'), ('could', 'VERB'), (\"n't\", 'ADV'), ('sleep', 'VERB'), ('at', 'ADP'), ('night', 'NOUN'), (\"''\", '.'), ('if', 'ADP'), ('the', 'DET'), ('magazine', 'NOUN'), ('bowed', 'VERB'), ('to', 'PRT'), ('a', 'DET'), ('company', 'NOUN'), ('because', 'ADP'), ('they', 'PRON'), ('once', 'ADV'), ('took', 'VERB'), ('out', 'PRT'), ('an', 'DET'), ('ad', 'NOUN'), ('.', '.')], [('After', 'ADP'), ('years', 'NOUN'), ('of', 'ADP'), ('decline', 'NOUN'), (',', '.'), ('weddings', 'NOUN'), ('in', 'ADP'), ('France', 'NOUN'), ('showed', 'VERB'), ('a', 'DET'), ('2.2', 'NUM'), ('%', 'NOUN'), ('upturn', 'NOUN'), ('last', 'ADJ'), ('year', 'NOUN'), (',', '.'), ('with', 'ADP'), ('6,000', 'NUM'), ('more', 'ADJ'), ('couples', 'NOUN'), ('*ICH*-1', 'X'), ('exchanging', 'VERB'), ('rings', 'NOUN'), ('in', 'ADP'), ('1988', 'NUM'), ('than', 'ADP'), ('in', 'ADP'), ('the', 'DET'), ('previous', 'ADJ'), ('year', 'NOUN'), (',', '.'), ('the', 'DET'), ('national', 'ADJ'), ('statistics', 'NOUN'), ('office', 'NOUN'), ('said', 'VERB'), ('0', 'X'), ('*T*-2', 'X'), ('.', '.')], [('As', 'ADP'), ('partisans', 'NOUN'), ('of', 'ADP'), ('congressional', 'ADJ'), ('power', 'NOUN'), ('understand', 'VERB'), (',', '.'), ('a', 'DET'), ('``', '.'), ('power', 'NOUN'), ('of', 'ADP'), ('the', 'DET'), ('purse', 'NOUN'), (\"''\", '.'), ('so', 'ADV'), ('broadly', 'ADV'), ('construed', 'VERB'), ('*', 'X'), ('would', 'VERB'), ('emasculate', 'VERB'), ('the', 'DET'), ('presidency', 'NOUN'), ('and', 'CONJ'), ('swallow', 'VERB'), ('the', 'DET'), ('principle', 'NOUN'), ('of', 'ADP'), ('separation', 'NOUN'), ('of', 'ADP'), ('powers', 'NOUN'), ('.', '.')], [('While', 'ADP'), ('*-1', 'X'), ('giving', 'VERB'), ('the', 'DET'), ('Comprehensive', 'ADJ'), ('Test', 'NOUN'), ('of', 'ADP'), ('Basic', 'ADJ'), ('Skills', 'NOUN'), ('to', 'PRT'), ('ninth', 'ADJ'), ('graders', 'NOUN'), ('at', 'ADP'), ('Greenville', 'NOUN'), ('High', 'NOUN'), ('School', 'NOUN'), ('last', 'ADJ'), ('March', 'NOUN'), ('16', 'NUM'), (',', '.'), ('she', 'PRON'), ('spotted', 'VERB'), ('a', 'DET'), ('student', 'NOUN'), ('looking', 'VERB'), ('at', 'ADP'), ('crib', 'ADJ'), ('sheets', 'NOUN'), ('.', '.')], [('As', 'ADP'), ('banks', 'NOUN'), (\"'\", 'PRT'), ('earnings', 'NOUN'), ('were', 'VERB'), ('squeezed', 'VERB'), ('*-122', 'X'), ('in', 'ADP'), ('the', 'DET'), ('mid-1970s', 'NUM'), (',', '.'), ('the', 'DET'), ('emphasis', 'NOUN'), ('switched', 'VERB'), ('to', 'PRT'), ('*', 'X'), ('finding', 'VERB'), ('ways', 'NOUN'), ('0', 'X'), ('*', 'X'), ('to', 'PRT'), ('cut', 'VERB'), ('costs', 'NOUN'), ('*T*-1', 'X'), ('.', '.')], [('Pauline', 'NOUN'), ('Yoshihashi', 'NOUN'), ('in', 'ADP'), ('Los', 'NOUN'), ('Angeles', 'NOUN'), ('contributed', 'VERB'), ('to', 'PRT'), ('this', 'DET'), ('article', 'NOUN'), ('.', '.')], [('He', 'PRON'), ('says', 'VERB'), ('0', 'X'), ('Campbell', 'NOUN'), ('was', 'VERB'), (\"n't\", 'ADV'), ('even', 'ADV'), ('contacted', 'VERB'), ('*-1', 'X'), ('by', 'ADP'), ('the', 'DET'), ('magazine', 'NOUN'), ('for', 'ADP'), ('the', 'DET'), ('opportunity', 'NOUN'), ('*', 'X'), ('to', 'PRT'), ('comment', 'VERB'), ('.', '.')], [('An', 'DET'), ('index', 'NOUN'), ('of', 'ADP'), ('economic', 'ADJ'), ('activity', 'NOUN'), ('drawn', 'VERB'), ('*', 'X'), ('from', 'ADP'), ('the', 'DET'), ('survey', 'NOUN'), ('stood', 'VERB'), ('last', 'ADJ'), ('month', 'NOUN'), ('at', 'ADP'), ('47.6', 'NUM'), ('%', 'NOUN'), (';', '.'), ('a', 'DET'), ('reading', 'NOUN'), ('above', 'ADP'), ('50', 'NUM'), ('%', 'NOUN'), ('would', 'VERB'), ('have', 'VERB'), ('indicated', 'VERB'), ('that', 'ADP'), ('the', 'DET'), ('manufacturing', 'VERB'), ('sector', 'NOUN'), ('was', 'VERB'), ('improving', 'VERB'), ('.', '.')], [('Relations', 'NOUN'), ('between', 'ADP'), ('China', 'NOUN'), ('and', 'CONJ'), ('the', 'DET'), ('U.S.', 'NOUN'), ('have', 'VERB'), ('been', 'VERB'), ('tense', 'ADJ'), ('since', 'ADP'), ('June', 'NOUN'), ('7', 'NUM'), (',', '.'), ('when', 'ADV'), ('Chinese', 'ADJ'), ('dissident', 'NOUN'), ('Fang', 'NOUN'), ('Lizhi', 'NOUN'), ('and', 'CONJ'), ('his', 'PRON'), ('wife', 'NOUN'), (',', '.'), ('Li', 'NOUN'), ('Shuxian', 'NOUN'), (',', '.'), ('took', 'VERB'), ('refuge', 'NOUN'), ('in', 'ADP'), ('the', 'DET'), ('U.S.', 'NOUN'), ('Embassy', 'NOUN'), ('in', 'ADP'), ('Beijing', 'NOUN'), ('*T*-1', 'X'), ('.', '.')], [('They', 'PRON'), ('suffered', 'VERB'), ('from', 'ADP'), ('malnutrition', 'NOUN'), (',', '.'), ('chest', 'NOUN'), ('diseases', 'NOUN'), (',', '.'), ('cardiovascular', 'ADJ'), ('disorders', 'NOUN'), (',', '.'), ('skin', 'NOUN'), ('problems', 'NOUN'), (',', '.'), ('infectious', 'ADJ'), ('diseases', 'NOUN'), ('and', 'CONJ'), ('the', 'DET'), ('aftereffects', 'NOUN'), ('of', 'ADP'), ('assaults', 'NOUN'), ('and', 'CONJ'), ('rape', 'NOUN'), ('.', '.')], [('Customers', 'NOUN'), ('holding', 'VERB'), ('contracts', 'NOUN'), ('for', 'ADP'), ('Waertsilae', 'NOUN'), ('Marine', 'NOUN'), (\"'s\", 'PRT'), ('undelivered', 'ADJ'), ('ships', 'NOUN'), ('are', 'VERB'), ('expected', 'VERB'), ('*-1', 'X'), ('to', 'PRT'), ('subscribe', 'VERB'), ('most', 'ADJ'), ('of', 'ADP'), ('the', 'DET'), ('remaining', 'VERB'), ('170', 'NUM'), ('million', 'NUM'), ('markkaa', 'NOUN'), ('in', 'ADP'), ('share', 'NOUN'), ('capital', 'NOUN'), (',', '.'), ('government', 'NOUN'), ('officials', 'NOUN'), ('said', 'VERB'), ('0', 'X'), ('*T*-2', 'X'), ('.', '.')], [('Reserves', 'NOUN'), ('for', 'ADP'), ('the', 'DET'), ('five', 'NUM'), ('new', 'ADJ'), ('fields', 'NOUN'), ('total', 'VERB'), ('50', 'NUM'), ('million', 'NUM'), ('barrels', 'NOUN'), ('.', '.')], [('The', 'DET'), ('yield', 'NOUN'), ('fell', 'VERB'), ('to', 'PRT'), ('7.88', 'NUM'), ('%', 'NOUN'), ('.', '.')], [('Almost', 'ADV'), ('all', 'DET'), ('new', 'ADJ'), ('regulation', 'NOUN'), ('is', 'VERB'), ('introduced', 'VERB'), ('*-81', 'X'), ('in', 'ADP'), ('the', 'DET'), ('interests', 'NOUN'), ('of', 'ADP'), ('*', 'X'), ('protecting', 'VERB'), ('the', 'DET'), ('little', 'ADJ'), ('guy', 'NOUN'), (',', '.'), ('and', 'CONJ'), ('he', 'PRON'), ('invariably', 'ADV'), ('is', 'VERB'), ('the', 'DET'), ('one', 'NUM'), ('least', 'ADJ'), ('able', 'ADJ'), ('*', 'X'), ('to', 'PRT'), ('cope', 'VERB'), ('with', 'ADP'), ('its', 'PRON'), ('consequences', 'NOUN'), ('.', '.')], [('But', 'CONJ'), ('the', 'DET'), ('Big', 'NOUN'), ('Board', 'NOUN'), (\"'s\", 'PRT'), ('leadership', 'NOUN'), ('--', '.'), ('over', 'ADP'), ('the', 'DET'), ('specialists', 'NOUN'), (\"'\", 'PRT'), ('protests', 'NOUN'), ('--', '.'), ('two', 'NUM'), ('weeks', 'NOUN'), ('ago', 'ADP'), ('began', 'VERB'), ('*-1', 'X'), ('trading', 'NOUN'), ('a', 'DET'), ('new', 'ADJ'), ('stock', 'NOUN'), ('``', '.'), ('basket', 'NOUN'), (\"''\", '.'), ('product', 'NOUN'), ('designed', 'VERB'), ('*', 'X'), ('to', 'PRT'), ('facilitate', 'VERB'), ('program', 'NOUN'), ('trading', 'NOUN'), ('.', '.')], [('Stephen', 'NOUN'), ('Boesel', 'NOUN'), (',', '.'), ('president', 'NOUN'), ('of', 'ADP'), ('T.', 'NOUN'), ('Rowe', 'NOUN'), ('Price', 'NOUN'), ('Growth', 'NOUN'), ('and', 'CONJ'), ('Income', 'NOUN'), ('Fund', 'NOUN'), (',', '.'), ('explains', 'VERB'), ('that', 'ADP'), ('companies', 'NOUN'), ('raise', 'VERB'), ('their', 'PRON'), ('payouts', 'NOUN'), ('most', 'ADV'), ('robustly', 'ADV'), ('only', 'ADV'), ('after', 'ADP'), ('the', 'DET'), ('economy', 'NOUN'), ('and', 'CONJ'), ('corporate', 'ADJ'), ('profits', 'NOUN'), ('have', 'VERB'), ('been', 'VERB'), ('growing', 'VERB'), ('for', 'ADP'), ('some', 'DET'), ('time', 'NOUN'), ('.', '.')], [('But', 'CONJ'), ('it', 'PRON'), ('*EXP*-1', 'X'), ('is', 'VERB'), (\"n't\", 'ADV'), ('clear', 'ADJ'), ('yet', 'ADV'), ('whether', 'ADP'), ('the', 'DET'), ('central', 'ADJ'), ('bank', 'NOUN'), ('will', 'VERB'), ('make', 'VERB'), ('such', 'DET'), ('a', 'DET'), ('move', 'NOUN'), ('.', '.')], [('But', 'CONJ'), ('Rep.', 'NOUN'), ('Don', 'NOUN'), ('Edwards', 'NOUN'), ('-LRB-', '.'), ('D.', 'NOUN'), (',', '.'), ('Calif', 'NOUN'), ('.', '.'), ('-RRB-', '.'), ('responded', 'VERB'), ('that', 'ADP'), ('a', 'DET'), ('recession', 'NOUN'), ('could', 'VERB'), ('stifle', 'VERB'), ('merger', 'NOUN'), ('activity', 'NOUN'), (',', '.'), ('*-1', 'X'), ('reducing', 'VERB'), ('the', 'DET'), ('amount', 'NOUN'), ('of', 'ADP'), ('fees', 'NOUN'), ('collected', 'VERB'), ('*', 'X'), ('.', '.')], [('Wedtech', 'NOUN'), (\"'s\", 'PRT'), ('scammers', 'NOUN'), ('simply', 'ADV'), ('bribed', 'VERB'), ('them', 'PRON'), ('to', 'PRT'), ('shut', 'VERB'), ('up', 'ADP'), ('.', '.')], [('*-1', 'X'), ('Rated', 'VERB'), ('*-2', 'X'), ('triple-A', 'ADJ'), ('by', 'ADP'), ('both', 'DET'), ('Moody', 'NOUN'), (\"'s\", 'PRT'), ('Investors', 'NOUN'), ('Service', 'NOUN'), ('Inc.', 'NOUN'), ('and', 'CONJ'), ('Standard', 'NOUN'), ('&', 'CONJ'), ('Poor', 'NOUN'), (\"'s\", 'PRT'), ('Corp.', 'NOUN'), (',', '.'), ('the', 'DET'), ('issue', 'NOUN'), ('will', 'VERB'), ('be', 'VERB'), ('sold', 'VERB'), ('*-1', 'X'), ('through', 'ADP'), ('underwriters', 'NOUN'), ('led', 'VERB'), ('*', 'X'), ('by', 'ADP'), ('Salomon', 'NOUN'), ('Brothers', 'NOUN'), ('Inc', 'NOUN'), ('.', '.')], [('*-1', 'X'), ('To', 'PRT'), ('keep', 'VERB'), ('program-trading', 'ADJ'), ('units', 'NOUN'), ('profitable', 'ADJ'), ('in', 'ADP'), ('the', 'DET'), ('eyes', 'NOUN'), ('of', 'ADP'), ('senior', 'ADJ'), ('brokerage', 'NOUN'), ('executives', 'NOUN'), (',', '.'), ('traders', 'NOUN'), ('must', 'VERB'), ('seize', 'VERB'), ('every', 'DET'), ('opportunity', 'NOUN'), ('0', 'X'), ('their', 'PRON'), ('computers', 'NOUN'), ('find', 'VERB'), ('*T*-2', 'X'), ('.', '.')], [('``', '.'), ('If', 'ADP'), ('we', 'PRON'), ('have', 'VERB'), ('a', 'DET'), ('real', 'ADJ'), ('bad', 'ADJ'), ('day', 'NOUN'), (',', '.'), ('the', 'DET'), ('program', 'NOUN'), ('would', 'VERB'), ('say', 'VERB'), (',', '.'), ('`', '.'), ('*', 'X'), ('Buy', 'VERB'), (',', '.'), (\"'\", '.'), (\"''\", '.'), ('he', 'PRON'), ('explains', 'VERB'), ('*T*-1', 'X'), ('.', '.')], [('*', 'X'), ('Determining', 'VERB'), ('that', 'DET'), ('may', 'VERB'), ('enable', 'VERB'), ('them', 'PRON'), ('to', 'PRT'), ('develop', 'VERB'), ('better', 'ADJ'), ('ways', 'NOUN'), ('0', 'X'), ('*', 'X'), ('to', 'PRT'), ('introduce', 'VERB'), ('the', 'DET'), ('needed', 'VERB'), ('crystal-lattice', 'NOUN'), ('patterns', 'NOUN'), ('*T*-1', 'X'), ('.', '.')], [('The', 'DET'), ('company', 'NOUN'), ('said', 'VERB'), ('0', 'X'), ('local', 'ADJ'), ('authorities', 'NOUN'), ('held', 'VERB'), ('hearings', 'NOUN'), ('on', 'ADP'), ('the', 'DET'), ('allegations', 'NOUN'), ('last', 'ADJ'), ('spring', 'NOUN'), ('and', 'CONJ'), ('had', 'VERB'), ('returned', 'VERB'), ('the', 'DET'), ('plant', 'NOUN'), ('to', 'PRT'), ('``', '.'), ('routine', 'ADJ'), ('inspection', 'NOUN'), (\"''\", '.'), ('in', 'ADP'), ('August', 'NOUN'), ('.', '.')], [('The', 'DET'), ('company', 'NOUN'), ('said', 'VERB'), ('0', 'X'), ('the', 'DET'), ('publisher', 'NOUN'), (\"'s\", 'PRT'), ('annual', 'ADJ'), ('sales', 'NOUN'), ('volume', 'NOUN'), ('increased', 'VERB'), ('to', 'PRT'), ('$', '.'), ('800', 'NUM'), ('million', 'NUM'), ('*U*', 'X'), ('from', 'ADP'), ('$', '.'), ('40', 'NUM'), ('million', 'NUM'), ('*U*', 'X'), ('during', 'ADP'), ('Mr.', 'NOUN'), ('Bernstein', 'NOUN'), (\"'s\", 'PRT'), ('tenure', 'NOUN'), ('.', '.')], [('``', '.'), ('David', 'NOUN'), ('Dinkins', 'NOUN'), ('failed', 'VERB'), ('*-2', 'X'), ('to', 'PRT'), ('file', 'VERB'), ('his', 'PRON'), ('income', 'NOUN'), ('taxes', 'NOUN'), ('for', 'ADP'), ('four', 'NUM'), ('straight', 'ADJ'), ('years', 'NOUN'), (',', '.'), (\"''\", '.'), ('says', 'VERB'), ('*T*-1', 'X'), ('a', 'DET'), ('disembodied', 'ADJ'), ('male', 'NOUN'), ('voice', 'NOUN'), ('.', '.')], [('Advancing', 'VERB'), ('stocks', 'NOUN'), ('led', 'VERB'), ('decliners', 'NOUN'), ('on', 'ADP'), ('the', 'DET'), ('New', 'NOUN'), ('York', 'NOUN'), ('Stock', 'NOUN'), ('Exchange', 'NOUN'), ('by', 'ADP'), ('847', 'NUM'), ('to', 'PRT'), ('644', 'NUM'), ('.', '.')], [('In', 'ADP'), ('Chile', 'NOUN'), (',', '.'), ('workers', 'NOUN'), ('at', 'ADP'), ('two', 'NUM'), ('copper', 'NOUN'), ('mines', 'NOUN'), (',', '.'), ('Los', 'NOUN'), ('Bronces', 'NOUN'), ('and', 'CONJ'), ('El', 'NOUN'), ('Soldado', 'NOUN'), (',', '.'), ('which', 'DET'), ('*T*-1', 'X'), ('belong', 'VERB'), ('to', 'PRT'), ('the', 'DET'), ('Exxon-owned', 'ADJ'), ('Minera', 'NOUN'), ('Disputada', 'NOUN'), (',', '.'), ('yesterday', 'NOUN'), ('voted', 'VERB'), ('*-2', 'X'), ('to', 'PRT'), ('begin', 'VERB'), ('a', 'DET'), ('full', 'ADJ'), ('strike', 'NOUN'), ('tomorrow', 'NOUN'), (',', '.'), ('an', 'DET'), ('analyst', 'NOUN'), ('said', 'VERB'), ('0', 'X'), ('*T*-3', 'X'), ('.', '.')], [('Temple', 'NOUN'), ('added', 'VERB'), ('that', 'ADP'), ('Sea', 'NOUN'), ('Containers', 'NOUN'), ('is', 'VERB'), ('still', 'ADV'), ('mired', 'VERB'), ('*-2', 'X'), ('in', 'ADP'), ('legal', 'ADJ'), ('problems', 'NOUN'), ('in', 'ADP'), ('Bermuda', 'NOUN'), (',', '.'), ('where', 'ADV'), ('the', 'DET'), ('Supreme', 'NOUN'), ('Court', 'NOUN'), ('has', 'VERB'), ('temporarily', 'ADV'), ('barred', 'VERB'), ('Sea', 'NOUN'), ('Containers', 'NOUN'), ('from', 'ADP'), ('*-3', 'X'), ('buying', 'VERB'), ('back', 'PRT'), ('its', 'PRON'), ('own', 'ADJ'), ('stock', 'NOUN'), ('in', 'ADP'), ('a', 'DET'), ('case', 'NOUN'), ('brought', 'VERB'), ('*', 'X'), ('by', 'ADP'), ('Stena', 'NOUN'), ('and', 'CONJ'), ('Tiphook', 'NOUN'), ('*T*-1', 'X'), ('.', '.')], [('Dealers', 'NOUN'), ('said', 'VERB'), ('0', 'X'), ('most', 'ADJ'), ('investor', 'NOUN'), ('interest', 'NOUN'), ('was', 'VERB'), ('focused', 'VERB'), ('*-1', 'X'), ('on', 'ADP'), ('defensive', 'ADJ'), ('blue-chip', 'ADJ'), ('stocks', 'NOUN'), (',', '.'), ('particularly', 'ADV'), ('those', 'DET'), ('with', 'ADP'), ('limited', 'ADJ'), ('U.K.', 'NOUN'), ('exposure', 'NOUN'), ('.', '.')], [('``', '.'), ('He', 'PRON'), ('has', 'VERB'), ('clamped', 'VERB'), ('on', 'ADP'), ('their', 'PRON'), ('ankle', 'NOUN'), ('like', 'ADP'), ('a', 'DET'), ('pit', 'NOUN'), ('bull', 'NOUN'), (',', '.'), (\"''\", '.'), ('says', 'VERB'), ('*T*-1', 'X'), ('Paul', 'NOUN'), ('Leming', 'NOUN'), (',', '.'), ('a', 'DET'), ('vice', 'NOUN'), ('president', 'NOUN'), ('with', 'ADP'), ('Morgan', 'NOUN'), ('Stanley', 'NOUN'), ('&', 'CONJ'), ('Co', 'NOUN'), ('.', '.')], [('Stocks', 'NOUN'), ('boosted', 'VERB'), ('*', 'X'), ('by', 'ADP'), ('market-makers', 'NOUN'), ('shopping', 'VERB'), ('*', 'X'), ('to', 'PRT'), ('cover', 'VERB'), ('book', 'NOUN'), ('requirements', 'NOUN'), ('in', 'ADP'), ('FT-SE', 'NOUN'), ('100', 'NUM'), ('shares', 'NOUN'), ('included', 'VERB'), ('Carlton', 'NOUN'), ('Communications', 'NOUN'), (',', '.'), ('which', 'DET'), ('*T*-1', 'X'), ('climbed', 'VERB'), ('32', 'NUM'), ('to', 'PRT'), ('778', 'NUM'), ('.', '.')], [('``', '.'), ('A', 'DET'), ('lot', 'NOUN'), ('of', 'ADP'), ('the', 'DET'), ('stocks', 'NOUN'), ('that', 'DET'), ('*T*-117', 'X'), ('have', 'VERB'), ('been', 'VERB'), ('under', 'ADP'), ('water', 'NOUN'), ('finally', 'ADV'), ('saw', 'VERB'), ('a', 'DET'), ('reason', 'NOUN'), ('0', 'X'), ('*', 'X'), ('to', 'PRT'), ('uptick', 'VERB'), ('*T*-1', 'X'), (',', '.'), (\"''\", '.'), ('said', 'VERB'), ('*T*-2', 'X'), ('George', 'NOUN'), ('Jennison', 'NOUN'), (',', '.'), ('head', 'ADJ'), ('trader', 'NOUN'), ('of', 'ADP'), ('banking', 'NOUN'), ('issues', 'NOUN'), ('in', 'ADP'), ('Shearson', 'NOUN'), ('Lehman', 'NOUN'), ('Hutton', 'NOUN'), (\"'s\", 'PRT'), ('OTC', 'NOUN'), ('department', 'NOUN'), ('.', '.')], [('As', 'ADP'), ('it', 'PRON'), ('stands', 'VERB'), ('now', 'ADV'), (',', '.'), ('Congress', 'NOUN'), ('presumes', 'VERB'), ('after', 'ADP'), ('the', 'DET'), ('Reagan', 'NOUN'), ('administration', 'NOUN'), ('that', 'ADP'), ('the', 'DET'), ('White', 'NOUN'), ('House', 'NOUN'), ('will', 'VERB'), ('take', 'VERB'), ('unconstitutional', 'ADJ'), ('provisions', 'NOUN'), ('in', 'ADP'), ('appropriations', 'NOUN'), ('bills', 'NOUN'), ('*-1', 'X'), ('lying', 'VERB'), ('down', 'ADP'), ('.', '.')], [('Money', 'NOUN'), ('Market', 'NOUN'), ('Deposits-a', 'NOUN'), ('6.21', 'NUM'), ('%', 'NOUN')], [('Cray', 'NOUN'), ('Computer', 'NOUN'), ('has', 'VERB'), ('applied', 'VERB'), ('*-1', 'X'), ('to', 'PRT'), ('trade', 'VERB'), ('on', 'ADP'), ('Nasdaq', 'NOUN'), ('.', '.')]]\n"
     ]
    }
   ],
   "source": [
    "# Splitting into train and validation\n",
    "random.seed(1234)\n",
    "train_set, val_set = train_test_split(nltk_data,test_size=0.05)\n",
    "\n",
    "print(len(train_set))\n",
    "print(len(val_set))\n",
    "print(train_set[:40])"
   ]
  },
  {
   "cell_type": "code",
   "execution_count": 71,
   "metadata": {},
   "outputs": [
    {
     "data": {
      "text/plain": [
       "95927"
      ]
     },
     "execution_count": 71,
     "metadata": {},
     "output_type": "execute_result"
    }
   ],
   "source": [
    "# Getting list of tagged words\n",
    "train_tagged_words = [tup for sent in train_set for tup in sent]\n",
    "len(train_tagged_words)"
   ]
  },
  {
   "cell_type": "code",
   "execution_count": 72,
   "metadata": {},
   "outputs": [
    {
     "data": {
      "text/plain": [
       "['The',\n",
       " 'service',\n",
       " '--',\n",
       " 'which',\n",
       " '*T*-2',\n",
       " 'costs',\n",
       " 'the',\n",
       " 'caller',\n",
       " 'from',\n",
       " '30']"
      ]
     },
     "execution_count": 72,
     "metadata": {},
     "output_type": "execute_result"
    }
   ],
   "source": [
    "# tokens \n",
    "tokens = [pair[0] for pair in train_tagged_words]\n",
    "tokens[:10]"
   ]
  },
  {
   "cell_type": "code",
   "execution_count": 73,
   "metadata": {},
   "outputs": [
    {
     "name": "stdout",
     "output_type": "stream",
     "text": [
      "12121\n"
     ]
    }
   ],
   "source": [
    "# vocabulary\n",
    "V = set(tokens)\n",
    "print(len(V))"
   ]
  },
  {
   "cell_type": "code",
   "execution_count": 74,
   "metadata": {},
   "outputs": [
    {
     "data": {
      "text/plain": [
       "12"
      ]
     },
     "execution_count": 74,
     "metadata": {},
     "output_type": "execute_result"
    }
   ],
   "source": [
    "# number of tags\n",
    "T = set([pair[1] for pair in train_tagged_words])\n",
    "len(T)"
   ]
  },
  {
   "cell_type": "code",
   "execution_count": 75,
   "metadata": {},
   "outputs": [
    {
     "name": "stdout",
     "output_type": "stream",
     "text": [
      "{'ADJ', 'NUM', 'ADP', '.', 'NOUN', 'PRT', 'CONJ', 'PRON', 'ADV', 'DET', 'X', 'VERB'}\n"
     ]
    }
   ],
   "source": [
    "print(T)"
   ]
  },
  {
   "cell_type": "markdown",
   "metadata": {},
   "source": [
    "##### POS Tagging Algorithm - HMM\n"
   ]
  },
  {
   "cell_type": "markdown",
   "metadata": {},
   "source": [
    "We'll use the HMM algorithm to tag the words. Given a sequence of words to be tagged, the task is to assign the most probable tag to the word. \n",
    "\n",
    "In other words, to every word w, assign the tag t that maximises the likelihood P(t/w). Since P(t/w) = P(w/t). P(t) / P(w), after ignoring P(w), we have to compute P(w/t) and P(t).\n",
    "\n",
    "\n",
    "P(w/t) is basically the probability that given a tag (say NN), what is the probability of it being w (say 'building'). This can be computed by computing the fraction of all NNs which are equal to w, i.e. \n",
    "\n",
    "P(w/t) = count(w, t) / count(t). \n",
    "\n",
    "\n",
    "The term P(t) is the probability of tag t, and in a tagging task, we assume that a tag will depend only on the previous tag. In other words, the probability of a tag being NN will depend only on the previous tag t(n-1). So for e.g. if t(n-1) is a JJ, then t(n) is likely to be an NN since adjectives often precede a noun (blue coat, tall building etc.).\n",
    "\n",
    "\n",
    "Given the penn treebank tagged dataset, we can compute the two terms P(w/t) and P(t) and store them in two large matrices. The matrix of P(w/t) will be sparse, since each word will not be seen with most tags ever, and those terms will thus be zero. "
   ]
  },
  {
   "cell_type": "markdown",
   "metadata": {},
   "source": [
    "#### Emission Probabilities"
   ]
  },
  {
   "cell_type": "code",
   "execution_count": 76,
   "metadata": {},
   "outputs": [],
   "source": [
    "# computing P(w/t) and storing in T x V matrix\n",
    "t = len(T)\n",
    "v = len(V)\n",
    "w_given_t = np.zeros((t, v))"
   ]
  },
  {
   "cell_type": "code",
   "execution_count": 77,
   "metadata": {},
   "outputs": [],
   "source": [
    "# compute word given tag: Emission Probability\n",
    "def word_given_tag(word, tag, train_bag = train_tagged_words):\n",
    "    tag_list = [pair for pair in train_bag if pair[1]==tag]\n",
    "    count_tag = len(tag_list)\n",
    "    w_given_tag_list = [pair[0] for pair in tag_list if pair[0]==word]\n",
    "    count_w_given_tag = len(w_given_tag_list)\n",
    "    \n",
    "    return (count_w_given_tag, count_tag)"
   ]
  },
  {
   "cell_type": "code",
   "execution_count": 78,
   "metadata": {},
   "outputs": [
    {
     "name": "stdout",
     "output_type": "stream",
     "text": [
      "\n",
      " There\n",
      "(0, 12933)\n",
      "(0, 27528)\n",
      "(29, 8322) \n",
      "\n"
     ]
    }
   ],
   "source": [
    "# example\n",
    "\n",
    "# There\n",
    "print(\"\\n\", \"There\")\n",
    "print(word_given_tag('There', 'VERB'))\n",
    "print(word_given_tag('There', 'NOUN'))\n",
    "print(word_given_tag('There', 'DET'), \"\\n\")"
   ]
  },
  {
   "cell_type": "markdown",
   "metadata": {},
   "source": [
    "#### Transition Probabilities"
   ]
  },
  {
   "cell_type": "code",
   "execution_count": 79,
   "metadata": {},
   "outputs": [],
   "source": [
    "# compute tag given tag: tag2(t2) given tag1 (t1), i.e. Transition Probability\n",
    "\n",
    "def t2_given_t1(t2, t1, train_bag = train_tagged_words):\n",
    "    tags = [pair[1] for pair in train_bag]\n",
    "    count_t1 = len([t for t in tags if t==t1])\n",
    "    count_t2_t1 = 0\n",
    "    for index in range(len(tags)-1):\n",
    "        if tags[index]==t1 and tags[index+1] == t2:\n",
    "            count_t2_t1 += 1\n",
    "    return (count_t2_t1, count_t1)"
   ]
  },
  {
   "cell_type": "code",
   "execution_count": 80,
   "metadata": {},
   "outputs": [
    {
     "name": "stdout",
     "output_type": "stream",
     "text": [
      "(1439, 12933)\n",
      "(330, 8322)\n",
      "(1734, 12933)\n",
      "(11, 2585)\n",
      "(19, 2154)\n"
     ]
    }
   ],
   "source": [
    "# examples\n",
    "print(t2_given_t1(t2='NOUN', t1='VERB'))\n",
    "print(t2_given_t1('VERB', 'DET'))\n",
    "print(t2_given_t1('DET', 'VERB'))\n",
    "print(t2_given_t1('CONJ', 'PRON'))\n",
    "print(t2_given_t1('X', 'CONJ'))\n",
    "\n"
   ]
  },
  {
   "cell_type": "code",
   "execution_count": 81,
   "metadata": {},
   "outputs": [],
   "source": [
    "# creating t x t transition matrix of tags\n",
    "# each column is t2, each row is t1\n",
    "# thus M(i, j) represents P(tj given ti)\n",
    "\n",
    "tags_matrix = np.zeros((len(T), len(T)), dtype='float32')\n",
    "for i, t1 in enumerate(list(T)):\n",
    "    for j, t2 in enumerate(list(T)): \n",
    "        tags_matrix[i, j] = t2_given_t1(t2, t1)[0]/t2_given_t1(t2, t1)[1]"
   ]
  },
  {
   "cell_type": "code",
   "execution_count": 82,
   "metadata": {},
   "outputs": [
    {
     "data": {
      "text/plain": [
       "array([[6.64593205e-02, 2.01342274e-02, 7.77541324e-02, 6.49860874e-02,\n",
       "        6.99950874e-01, 1.08037321e-02, 1.75151415e-02, 6.54771633e-04,\n",
       "        4.58340161e-03, 4.09232266e-03, 2.12800782e-02, 1.17858900e-02],\n",
       "       [3.38781588e-02, 1.89004451e-01, 3.41753326e-02, 1.13818720e-01,\n",
       "        3.52451712e-01, 2.67459136e-02, 1.30757801e-02, 1.78306096e-03,\n",
       "        2.97176815e-03, 2.97176815e-03, 2.11292714e-01, 1.78306084e-02],\n",
       "       [1.05941229e-01, 6.17546849e-02, 1.69293024e-02, 3.97146493e-02,\n",
       "        3.23892683e-01, 1.49063033e-03, 1.06473593e-03, 6.84625208e-02,\n",
       "        1.34156728e-02, 3.24212104e-01, 3.47103924e-02, 8.41141399e-03],\n",
       "       [4.45939898e-02, 8.07536989e-02, 9.11619589e-02, 9.24181268e-02,\n",
       "        2.21175417e-01, 2.33288459e-03, 5.82323894e-02, 6.53207749e-02,\n",
       "        5.24001792e-02, 1.74338266e-01, 2.75459848e-02, 8.96366090e-02],\n",
       "       [1.20604476e-02, 9.26329568e-03, 1.76547512e-01, 2.40446091e-01,\n",
       "        2.64094740e-01, 4.39552441e-02, 4.24658544e-02, 4.57715802e-03,\n",
       "        1.71825048e-02, 1.33682070e-02, 2.91339718e-02, 1.46904975e-01],\n",
       "       [8.50649327e-02, 5.68181835e-02, 2.04545446e-02, 4.44805212e-02,\n",
       "        2.43831173e-01, 1.94805197e-03, 1.94805197e-03, 1.81818176e-02,\n",
       "        9.41558462e-03, 1.03246756e-01, 1.36363637e-02, 4.00974035e-01],\n",
       "       [1.17920145e-01, 4.13184762e-02, 5.38532957e-02, 3.57474461e-02,\n",
       "        3.50046426e-01, 4.64252569e-03, 4.64252545e-04, 5.84958233e-02,\n",
       "        5.43175489e-02, 1.18384399e-01, 8.82079825e-03, 1.55988857e-01],\n",
       "       [7.38878176e-02, 7.35009648e-03, 2.28239838e-02, 3.98452617e-02,\n",
       "        2.08123788e-01, 1.27659570e-02, 4.25531901e-03, 7.35009648e-03,\n",
       "        3.44294012e-02, 9.28433239e-03, 9.36170220e-02, 4.86266911e-01],\n",
       "       [1.32025272e-01, 3.15929502e-02, 1.18722983e-01, 1.37013629e-01,\n",
       "        3.05952784e-02, 1.33022945e-02, 6.98370486e-03, 1.49650816e-02,\n",
       "        7.74858668e-02, 6.91719353e-02, 2.22813431e-02, 3.45859647e-01],\n",
       "       [2.04397976e-01, 2.19899062e-02, 9.01225675e-03, 1.81446765e-02,\n",
       "        6.38788760e-01, 2.40326845e-04, 4.80653689e-04, 3.60490265e-03,\n",
       "        1.26171596e-02, 5.28719043e-03, 4.57822643e-02, 3.96539308e-02],\n",
       "       [1.72823854e-02, 2.85397167e-03, 1.45076901e-01, 1.61090851e-01,\n",
       "        6.32630438e-02, 1.85825273e-01, 9.83034726e-03, 5.54938950e-02,\n",
       "        2.58443002e-02, 5.50182350e-02, 7.37276077e-02, 2.04693198e-01],\n",
       "       [6.58006668e-02, 2.25779023e-02, 9.13941115e-02, 3.45627479e-02,\n",
       "        1.11265756e-01, 3.17791700e-02, 5.41251060e-03, 3.49493548e-02,\n",
       "        8.11876580e-02, 1.34075627e-01, 2.17660248e-01, 1.69334263e-01]],\n",
       "      dtype=float32)"
      ]
     },
     "execution_count": 82,
     "metadata": {},
     "output_type": "execute_result"
    }
   ],
   "source": [
    "tags_matrix"
   ]
  },
  {
   "cell_type": "code",
   "execution_count": 83,
   "metadata": {},
   "outputs": [],
   "source": [
    "# convert the matrix to a df for better readability\n",
    "tags_df = pd.DataFrame(tags_matrix, columns = list(T), index=list(T))"
   ]
  },
  {
   "cell_type": "code",
   "execution_count": 84,
   "metadata": {},
   "outputs": [
    {
     "data": {
      "text/html": [
       "<div>\n",
       "<style scoped>\n",
       "    .dataframe tbody tr th:only-of-type {\n",
       "        vertical-align: middle;\n",
       "    }\n",
       "\n",
       "    .dataframe tbody tr th {\n",
       "        vertical-align: top;\n",
       "    }\n",
       "\n",
       "    .dataframe thead th {\n",
       "        text-align: right;\n",
       "    }\n",
       "</style>\n",
       "<table border=\"1\" class=\"dataframe\">\n",
       "  <thead>\n",
       "    <tr style=\"text-align: right;\">\n",
       "      <th></th>\n",
       "      <th>ADJ</th>\n",
       "      <th>NUM</th>\n",
       "      <th>ADP</th>\n",
       "      <th>.</th>\n",
       "      <th>NOUN</th>\n",
       "      <th>PRT</th>\n",
       "      <th>CONJ</th>\n",
       "      <th>PRON</th>\n",
       "      <th>ADV</th>\n",
       "      <th>DET</th>\n",
       "      <th>X</th>\n",
       "      <th>VERB</th>\n",
       "    </tr>\n",
       "  </thead>\n",
       "  <tbody>\n",
       "    <tr>\n",
       "      <td>ADJ</td>\n",
       "      <td>0.066459</td>\n",
       "      <td>0.020134</td>\n",
       "      <td>0.077754</td>\n",
       "      <td>0.064986</td>\n",
       "      <td>0.699951</td>\n",
       "      <td>0.010804</td>\n",
       "      <td>0.017515</td>\n",
       "      <td>0.000655</td>\n",
       "      <td>0.004583</td>\n",
       "      <td>0.004092</td>\n",
       "      <td>0.021280</td>\n",
       "      <td>0.011786</td>\n",
       "    </tr>\n",
       "    <tr>\n",
       "      <td>NUM</td>\n",
       "      <td>0.033878</td>\n",
       "      <td>0.189004</td>\n",
       "      <td>0.034175</td>\n",
       "      <td>0.113819</td>\n",
       "      <td>0.352452</td>\n",
       "      <td>0.026746</td>\n",
       "      <td>0.013076</td>\n",
       "      <td>0.001783</td>\n",
       "      <td>0.002972</td>\n",
       "      <td>0.002972</td>\n",
       "      <td>0.211293</td>\n",
       "      <td>0.017831</td>\n",
       "    </tr>\n",
       "    <tr>\n",
       "      <td>ADP</td>\n",
       "      <td>0.105941</td>\n",
       "      <td>0.061755</td>\n",
       "      <td>0.016929</td>\n",
       "      <td>0.039715</td>\n",
       "      <td>0.323893</td>\n",
       "      <td>0.001491</td>\n",
       "      <td>0.001065</td>\n",
       "      <td>0.068463</td>\n",
       "      <td>0.013416</td>\n",
       "      <td>0.324212</td>\n",
       "      <td>0.034710</td>\n",
       "      <td>0.008411</td>\n",
       "    </tr>\n",
       "    <tr>\n",
       "      <td>.</td>\n",
       "      <td>0.044594</td>\n",
       "      <td>0.080754</td>\n",
       "      <td>0.091162</td>\n",
       "      <td>0.092418</td>\n",
       "      <td>0.221175</td>\n",
       "      <td>0.002333</td>\n",
       "      <td>0.058232</td>\n",
       "      <td>0.065321</td>\n",
       "      <td>0.052400</td>\n",
       "      <td>0.174338</td>\n",
       "      <td>0.027546</td>\n",
       "      <td>0.089637</td>\n",
       "    </tr>\n",
       "    <tr>\n",
       "      <td>NOUN</td>\n",
       "      <td>0.012060</td>\n",
       "      <td>0.009263</td>\n",
       "      <td>0.176548</td>\n",
       "      <td>0.240446</td>\n",
       "      <td>0.264095</td>\n",
       "      <td>0.043955</td>\n",
       "      <td>0.042466</td>\n",
       "      <td>0.004577</td>\n",
       "      <td>0.017183</td>\n",
       "      <td>0.013368</td>\n",
       "      <td>0.029134</td>\n",
       "      <td>0.146905</td>\n",
       "    </tr>\n",
       "    <tr>\n",
       "      <td>PRT</td>\n",
       "      <td>0.085065</td>\n",
       "      <td>0.056818</td>\n",
       "      <td>0.020455</td>\n",
       "      <td>0.044481</td>\n",
       "      <td>0.243831</td>\n",
       "      <td>0.001948</td>\n",
       "      <td>0.001948</td>\n",
       "      <td>0.018182</td>\n",
       "      <td>0.009416</td>\n",
       "      <td>0.103247</td>\n",
       "      <td>0.013636</td>\n",
       "      <td>0.400974</td>\n",
       "    </tr>\n",
       "    <tr>\n",
       "      <td>CONJ</td>\n",
       "      <td>0.117920</td>\n",
       "      <td>0.041318</td>\n",
       "      <td>0.053853</td>\n",
       "      <td>0.035747</td>\n",
       "      <td>0.350046</td>\n",
       "      <td>0.004643</td>\n",
       "      <td>0.000464</td>\n",
       "      <td>0.058496</td>\n",
       "      <td>0.054318</td>\n",
       "      <td>0.118384</td>\n",
       "      <td>0.008821</td>\n",
       "      <td>0.155989</td>\n",
       "    </tr>\n",
       "    <tr>\n",
       "      <td>PRON</td>\n",
       "      <td>0.073888</td>\n",
       "      <td>0.007350</td>\n",
       "      <td>0.022824</td>\n",
       "      <td>0.039845</td>\n",
       "      <td>0.208124</td>\n",
       "      <td>0.012766</td>\n",
       "      <td>0.004255</td>\n",
       "      <td>0.007350</td>\n",
       "      <td>0.034429</td>\n",
       "      <td>0.009284</td>\n",
       "      <td>0.093617</td>\n",
       "      <td>0.486267</td>\n",
       "    </tr>\n",
       "    <tr>\n",
       "      <td>ADV</td>\n",
       "      <td>0.132025</td>\n",
       "      <td>0.031593</td>\n",
       "      <td>0.118723</td>\n",
       "      <td>0.137014</td>\n",
       "      <td>0.030595</td>\n",
       "      <td>0.013302</td>\n",
       "      <td>0.006984</td>\n",
       "      <td>0.014965</td>\n",
       "      <td>0.077486</td>\n",
       "      <td>0.069172</td>\n",
       "      <td>0.022281</td>\n",
       "      <td>0.345860</td>\n",
       "    </tr>\n",
       "    <tr>\n",
       "      <td>DET</td>\n",
       "      <td>0.204398</td>\n",
       "      <td>0.021990</td>\n",
       "      <td>0.009012</td>\n",
       "      <td>0.018145</td>\n",
       "      <td>0.638789</td>\n",
       "      <td>0.000240</td>\n",
       "      <td>0.000481</td>\n",
       "      <td>0.003605</td>\n",
       "      <td>0.012617</td>\n",
       "      <td>0.005287</td>\n",
       "      <td>0.045782</td>\n",
       "      <td>0.039654</td>\n",
       "    </tr>\n",
       "    <tr>\n",
       "      <td>X</td>\n",
       "      <td>0.017282</td>\n",
       "      <td>0.002854</td>\n",
       "      <td>0.145077</td>\n",
       "      <td>0.161091</td>\n",
       "      <td>0.063263</td>\n",
       "      <td>0.185825</td>\n",
       "      <td>0.009830</td>\n",
       "      <td>0.055494</td>\n",
       "      <td>0.025844</td>\n",
       "      <td>0.055018</td>\n",
       "      <td>0.073728</td>\n",
       "      <td>0.204693</td>\n",
       "    </tr>\n",
       "    <tr>\n",
       "      <td>VERB</td>\n",
       "      <td>0.065801</td>\n",
       "      <td>0.022578</td>\n",
       "      <td>0.091394</td>\n",
       "      <td>0.034563</td>\n",
       "      <td>0.111266</td>\n",
       "      <td>0.031779</td>\n",
       "      <td>0.005413</td>\n",
       "      <td>0.034949</td>\n",
       "      <td>0.081188</td>\n",
       "      <td>0.134076</td>\n",
       "      <td>0.217660</td>\n",
       "      <td>0.169334</td>\n",
       "    </tr>\n",
       "  </tbody>\n",
       "</table>\n",
       "</div>"
      ],
      "text/plain": [
       "           ADJ       NUM       ADP         .      NOUN       PRT      CONJ  \\\n",
       "ADJ   0.066459  0.020134  0.077754  0.064986  0.699951  0.010804  0.017515   \n",
       "NUM   0.033878  0.189004  0.034175  0.113819  0.352452  0.026746  0.013076   \n",
       "ADP   0.105941  0.061755  0.016929  0.039715  0.323893  0.001491  0.001065   \n",
       ".     0.044594  0.080754  0.091162  0.092418  0.221175  0.002333  0.058232   \n",
       "NOUN  0.012060  0.009263  0.176548  0.240446  0.264095  0.043955  0.042466   \n",
       "PRT   0.085065  0.056818  0.020455  0.044481  0.243831  0.001948  0.001948   \n",
       "CONJ  0.117920  0.041318  0.053853  0.035747  0.350046  0.004643  0.000464   \n",
       "PRON  0.073888  0.007350  0.022824  0.039845  0.208124  0.012766  0.004255   \n",
       "ADV   0.132025  0.031593  0.118723  0.137014  0.030595  0.013302  0.006984   \n",
       "DET   0.204398  0.021990  0.009012  0.018145  0.638789  0.000240  0.000481   \n",
       "X     0.017282  0.002854  0.145077  0.161091  0.063263  0.185825  0.009830   \n",
       "VERB  0.065801  0.022578  0.091394  0.034563  0.111266  0.031779  0.005413   \n",
       "\n",
       "          PRON       ADV       DET         X      VERB  \n",
       "ADJ   0.000655  0.004583  0.004092  0.021280  0.011786  \n",
       "NUM   0.001783  0.002972  0.002972  0.211293  0.017831  \n",
       "ADP   0.068463  0.013416  0.324212  0.034710  0.008411  \n",
       ".     0.065321  0.052400  0.174338  0.027546  0.089637  \n",
       "NOUN  0.004577  0.017183  0.013368  0.029134  0.146905  \n",
       "PRT   0.018182  0.009416  0.103247  0.013636  0.400974  \n",
       "CONJ  0.058496  0.054318  0.118384  0.008821  0.155989  \n",
       "PRON  0.007350  0.034429  0.009284  0.093617  0.486267  \n",
       "ADV   0.014965  0.077486  0.069172  0.022281  0.345860  \n",
       "DET   0.003605  0.012617  0.005287  0.045782  0.039654  \n",
       "X     0.055494  0.025844  0.055018  0.073728  0.204693  \n",
       "VERB  0.034949  0.081188  0.134076  0.217660  0.169334  "
      ]
     },
     "execution_count": 84,
     "metadata": {},
     "output_type": "execute_result"
    }
   ],
   "source": [
    "tags_df"
   ]
  },
  {
   "cell_type": "code",
   "execution_count": 85,
   "metadata": {},
   "outputs": [
    {
     "data": {
      "image/png": "[encoded data removed]",
      "text/plain": [
       "<Figure size 1296x864 with 2 Axes>"
      ]
     },
     "metadata": {
      "needs_background": "light"
     },
     "output_type": "display_data"
    }
   ],
   "source": [
    "# heatmap of tags matrix\n",
    "# T(i, j) means P(tag j given tag i)\n",
    "plt.figure(figsize=(18, 12))\n",
    "sns.heatmap(tags_df)\n",
    "plt.show()\n"
   ]
  },
  {
   "cell_type": "code",
   "execution_count": 86,
   "metadata": {
    "scrolled": true
   },
   "outputs": [
    {
     "data": {
      "image/png": "[encoded data removed]",
      "text/plain": [
       "<Figure size 1296x864 with 2 Axes>"
      ]
     },
     "metadata": {
      "needs_background": "light"
     },
     "output_type": "display_data"
    }
   ],
   "source": [
    "# frequent tags\n",
    "# filter the df to get P(t2, t1) > 0.5\n",
    "tags_frequent = tags_df[tags_df>0.5]\n",
    "plt.figure(figsize=(18, 12))\n",
    "sns.heatmap(tags_frequent)\n",
    "plt.show()"
   ]
  },
  {
   "cell_type": "markdown",
   "metadata": {},
   "source": [
    "### Build the vanilla Viterbi based POS tagger"
   ]
  },
  {
   "cell_type": "markdown",
   "metadata": {},
   "source": [
    "Let's now use the computed probabilities P(w, tag) and P(t2, t1) to assign tags to each word in the document. We'll run through each word w and compute P(tag/w)=P(w/tag).P(tag) for each tag in the tag set, and then assign the tag having the max P(tag/w).\n",
    "\n",
    "We'll store the assigned tags in a list of tuples, similar to the list 'train_tagged_words'. Each tuple will be a (token, assigned_tag). As we progress further in the list, each tag to be assigned will use the tag of the previous token.\n",
    "\n",
    "Note: P(tag|start) = P(tag|'.') "
   ]
  },
  {
   "cell_type": "code",
   "execution_count": 87,
   "metadata": {},
   "outputs": [
    {
     "data": {
      "text/plain": [
       "95927"
      ]
     },
     "execution_count": 87,
     "metadata": {},
     "output_type": "execute_result"
    }
   ],
   "source": [
    "len(train_tagged_words)"
   ]
  },
  {
   "cell_type": "code",
   "execution_count": 88,
   "metadata": {},
   "outputs": [],
   "source": [
    "# Viterbi Heuristic\n",
    "def Viterbi(words, train_bag = train_tagged_words):\n",
    "    state = []\n",
    "    T = list(set([pair[1] for pair in train_bag]))\n",
    "    \n",
    "    for key, word in enumerate(words):\n",
    "        #initialise list of probability column for a given observation\n",
    "        p = [] \n",
    "        for tag in T:\n",
    "            if key == 0:\n",
    "                transition_p = tags_df.loc['.', tag]\n",
    "            else:\n",
    "                transition_p = tags_df.loc[state[-1], tag]\n",
    "                \n",
    "            # compute emission and state probabilities\n",
    "            emission_p = word_given_tag(words[key], tag)[0]/word_given_tag(words[key], tag)[1]\n",
    "            state_probability = emission_p * transition_p    \n",
    "            p.append(state_probability)\n",
    "            \n",
    "        pmax = max(p) \n",
    "        # getting state for which probability is maximum\n",
    "        state_max = T[p.index(pmax)] \n",
    "        state.append(state_max)\n",
    "    return list(zip(words, state))\n"
   ]
  },
  {
   "cell_type": "markdown",
   "metadata": {},
   "source": [
    "#### Evaluating on Validation Set"
   ]
  },
  {
   "cell_type": "code",
   "execution_count": 89,
   "metadata": {},
   "outputs": [
    {
     "data": {
      "text/plain": [
       "[[('In', 'ADP'),\n",
       "  ('a', 'DET'),\n",
       "  ('well-known', 'ADJ'),\n",
       "  ('detective-story', 'NOUN'),\n",
       "  ('involving', 'VERB'),\n",
       "  ('church', 'NOUN'),\n",
       "  ('bells', 'NOUN'),\n",
       "  (',', '.'),\n",
       "  ('English', 'ADJ'),\n",
       "  ('novelist', 'NOUN'),\n",
       "  ('Dorothy', 'NOUN'),\n",
       "  ('L.', 'NOUN'),\n",
       "  ('Sayers', 'NOUN'),\n",
       "  ('described', 'VERB'),\n",
       "  ('ringing', 'VERB'),\n",
       "  ('as', 'ADP'),\n",
       "  ('a', 'DET'),\n",
       "  ('``', '.'),\n",
       "  ('passion', 'NOUN'),\n",
       "  ('-LCB-', '.'),\n",
       "  ('that', 'DET'),\n",
       "  ('-RCB-', '.'),\n",
       "  ('*T*-1', 'X'),\n",
       "  ('finds', 'VERB'),\n",
       "  ('its', 'PRON'),\n",
       "  ('satisfaction', 'NOUN'),\n",
       "  ('in', 'ADP'),\n",
       "  ('mathematical', 'ADJ'),\n",
       "  ('completeness', 'NOUN'),\n",
       "  ('and', 'CONJ'),\n",
       "  ('mechanical', 'ADJ'),\n",
       "  ('perfection', 'NOUN'),\n",
       "  ('.', '.'),\n",
       "  (\"''\", '.')],\n",
       " [('``', '.'),\n",
       "  ('It', 'PRON'),\n",
       "  ('is', 'VERB'),\n",
       "  ('the', 'DET'),\n",
       "  ('very', 'ADJ'),\n",
       "  ('building', 'NOUN'),\n",
       "  ('of', 'ADP'),\n",
       "  ('it', 'PRON'),\n",
       "  ('*ICH*-4', 'X'),\n",
       "  ('that', 'DET'),\n",
       "  ('*T*-2', 'X'),\n",
       "  ('is', 'VERB'),\n",
       "  ('important', 'ADJ'),\n",
       "  (',', '.'),\n",
       "  ('not', 'ADV'),\n",
       "  ('how', 'ADV'),\n",
       "  ('much', 'ADV'),\n",
       "  ('of', 'ADP'),\n",
       "  ('it', 'PRON'),\n",
       "  ('*T*-3', 'X'),\n",
       "  ('is', 'VERB'),\n",
       "  ('used', 'VERB'),\n",
       "  ('*-1', 'X'),\n",
       "  ('or', 'CONJ'),\n",
       "  ('its', 'PRON'),\n",
       "  ('economics', 'NOUN'),\n",
       "  ('.', '.'),\n",
       "  (\"''\", '.')],\n",
       " [('At', 'ADP'),\n",
       "  ('the', 'DET'),\n",
       "  ('same', 'ADJ'),\n",
       "  ('time', 'NOUN'),\n",
       "  (',', '.'),\n",
       "  ('though', 'ADV'),\n",
       "  (',', '.'),\n",
       "  ('he', 'PRON'),\n",
       "  ('chastised', 'VERB'),\n",
       "  ('the', 'DET'),\n",
       "  ('media', 'NOUN'),\n",
       "  ('for', 'ADP'),\n",
       "  ('*', 'X'),\n",
       "  ('paying', 'VERB'),\n",
       "  ('such', 'ADJ'),\n",
       "  ('close', 'ADJ'),\n",
       "  ('attention', 'NOUN'),\n",
       "  ('to', 'PRT'),\n",
       "  ('Japanese', 'ADJ'),\n",
       "  ('investment', 'NOUN'),\n",
       "  ('when', 'ADV'),\n",
       "  ('other', 'ADJ'),\n",
       "  ('foreign', 'ADJ'),\n",
       "  ('countries', 'NOUN'),\n",
       "  (',', '.'),\n",
       "  ('notably', 'ADV'),\n",
       "  ('Britain', 'NOUN'),\n",
       "  (',', '.'),\n",
       "  ('are', 'VERB'),\n",
       "  ('acquiring', 'VERB'),\n",
       "  ('more', 'ADJ'),\n",
       "  ('American', 'ADJ'),\n",
       "  ('assets', 'NOUN'),\n",
       "  ('*T*-1', 'X'),\n",
       "  ('.', '.')],\n",
       " [('Only', 'ADV'),\n",
       "  ('this', 'DET'),\n",
       "  ('week', 'NOUN'),\n",
       "  (',', '.'),\n",
       "  ('it', 'PRON'),\n",
       "  ('*EXP*-1', 'X'),\n",
       "  ('was', 'VERB'),\n",
       "  ('announced', 'VERB'),\n",
       "  ('*-118', 'X'),\n",
       "  ('that', 'ADP'),\n",
       "  ('Mitsubishi', 'NOUN'),\n",
       "  ('Estate', 'NOUN'),\n",
       "  ('Co.', 'NOUN'),\n",
       "  ('had', 'VERB'),\n",
       "  ('acquired', 'VERB'),\n",
       "  ('a', 'DET'),\n",
       "  ('51', 'NUM'),\n",
       "  ('%', 'NOUN'),\n",
       "  ('stake', 'NOUN'),\n",
       "  ('in', 'ADP'),\n",
       "  ('Rockefeller', 'NOUN'),\n",
       "  ('Group', 'NOUN'),\n",
       "  (',', '.'),\n",
       "  ('which', 'DET'),\n",
       "  ('*T*-192', 'X'),\n",
       "  ('owns', 'VERB'),\n",
       "  ('New', 'NOUN'),\n",
       "  ('York', 'NOUN'),\n",
       "  (\"'s\", 'PRT'),\n",
       "  ('prestigious', 'ADJ'),\n",
       "  ('Rockefeller', 'NOUN'),\n",
       "  ('Center', 'NOUN'),\n",
       "  ('.', '.')],\n",
       " [('In', 'ADP'),\n",
       "  ('addition', 'NOUN'),\n",
       "  (',', '.'),\n",
       "  ('the', 'DET'),\n",
       "  ('Apple', 'NOUN'),\n",
       "  ('II', 'NOUN'),\n",
       "  ('was', 'VERB'),\n",
       "  ('an', 'DET'),\n",
       "  ('affordable', 'ADJ'),\n",
       "  ('$', '.'),\n",
       "  ('1,298', 'NUM'),\n",
       "  ('*U*', 'X'),\n",
       "  ('.', '.')]]"
      ]
     },
     "execution_count": 89,
     "metadata": {},
     "output_type": "execute_result"
    }
   ],
   "source": [
    "# Running on entire test dataset would take more than 3-4hrs. \n",
    "# Let's test our Viterbi algorithm on a few sample sentences of test dataset\n",
    "\n",
    "random.seed(1234)\n",
    "\n",
    "# choose random 5 sents\n",
    "rndom = [random.randint(1,len(val_set)) for x in range(5)]\n",
    "\n",
    "# list of sents\n",
    "test_run = [val_set[i] for i in rndom]\n",
    "\n",
    "# list of tagged words\n",
    "test_run_base = [tup for sent in test_run for tup in sent]\n",
    "\n",
    "# list of untagged words\n",
    "test_tagged_words = [tup[0] for sent in test_run for tup in sent]\n",
    "test_run"
   ]
  },
  {
   "cell_type": "code",
   "execution_count": 90,
   "metadata": {},
   "outputs": [],
   "source": [
    "# tagging the test sentences\n",
    "start = time.time()\n",
    "tagged_seq = Viterbi(test_tagged_words)\n",
    "end = time.time()\n",
    "difference = end-start"
   ]
  },
  {
   "cell_type": "code",
   "execution_count": 91,
   "metadata": {},
   "outputs": [
    {
     "name": "stdout",
     "output_type": "stream",
     "text": [
      "Time taken in seconds:  36.24675250053406\n",
      "[('In', 'ADP'), ('a', 'DET'), ('well-known', 'ADJ'), ('detective-story', 'ADJ'), ('involving', 'VERB'), ('church', 'NOUN'), ('bells', 'NOUN'), (',', '.'), ('English', 'NOUN'), ('novelist', 'ADJ'), ('Dorothy', 'NOUN'), ('L.', 'NOUN'), ('Sayers', 'NOUN'), ('described', 'VERB'), ('ringing', 'VERB'), ('as', 'ADP'), ('a', 'DET'), ('``', '.'), ('passion', 'NOUN'), ('-LCB-', '.'), ('that', 'DET'), ('-RCB-', '.'), ('*T*-1', 'X'), ('finds', 'ADJ'), ('its', 'PRON'), ('satisfaction', 'ADJ'), ('in', 'ADP'), ('mathematical', 'ADJ'), ('completeness', 'ADJ'), ('and', 'CONJ'), ('mechanical', 'ADJ'), ('perfection', 'ADJ'), ('.', '.'), (\"''\", '.'), ('``', '.'), ('It', 'PRON'), ('is', 'VERB'), ('the', 'DET'), ('very', 'ADV'), ('building', 'VERB'), ('of', 'ADP'), ('it', 'PRON'), ('*ICH*-4', 'X'), ('that', 'ADP'), ('*T*-2', 'X'), ('is', 'VERB'), ('important', 'ADJ'), (',', '.'), ('not', 'ADV'), ('how', 'ADV'), ('much', 'ADV'), ('of', 'ADP'), ('it', 'PRON'), ('*T*-3', 'X'), ('is', 'VERB'), ('used', 'VERB'), ('*-1', 'X'), ('or', 'CONJ'), ('its', 'PRON'), ('economics', 'NOUN'), ('.', '.'), (\"''\", '.'), ('At', 'ADP'), ('the', 'DET'), ('same', 'ADJ'), ('time', 'NOUN'), (',', '.'), ('though', 'ADP'), (',', '.'), ('he', 'PRON'), ('chastised', 'VERB'), ('the', 'DET'), ('media', 'NOUN'), ('for', 'ADP'), ('*', 'X'), ('paying', 'VERB'), ('such', 'ADJ'), ('close', 'NOUN'), ('attention', 'NOUN'), ('to', 'PRT'), ('Japanese', 'ADJ'), ('investment', 'NOUN'), ('when', 'ADV'), ('other', 'ADJ'), ('foreign', 'ADJ'), ('countries', 'NOUN'), (',', '.'), ('notably', 'ADV'), ('Britain', 'NOUN'), (',', '.'), ('are', 'VERB'), ('acquiring', 'VERB'), ('more', 'ADV'), ('American', 'ADJ'), ('assets', 'NOUN'), ('*T*-1', 'X'), ('.', '.'), ('Only', 'ADV'), ('this', 'DET'), ('week', 'NOUN'), (',', '.'), ('it', 'PRON'), ('*EXP*-1', 'X'), ('was', 'VERB'), ('announced', 'VERB'), ('*-118', 'ADJ'), ('that', 'ADP'), ('Mitsubishi', 'NOUN'), ('Estate', 'NOUN'), ('Co.', 'NOUN'), ('had', 'VERB'), ('acquired', 'VERB'), ('a', 'DET'), ('51', 'NUM'), ('%', 'NOUN'), ('stake', 'NOUN'), ('in', 'ADP'), ('Rockefeller', 'NOUN'), ('Group', 'NOUN'), (',', '.'), ('which', 'DET'), ('*T*-192', 'ADJ'), ('owns', 'VERB'), ('New', 'NOUN'), ('York', 'NOUN'), (\"'s\", 'PRT'), ('prestigious', 'ADJ'), ('Rockefeller', 'NOUN'), ('Center', 'NOUN'), ('.', '.'), ('In', 'ADP'), ('addition', 'NOUN'), (',', '.'), ('the', 'DET'), ('Apple', 'NOUN'), ('II', 'NOUN'), ('was', 'VERB'), ('an', 'DET'), ('affordable', 'ADJ'), ('$', '.'), ('1,298', 'ADJ'), ('*U*', 'X'), ('.', '.')]\n"
     ]
    }
   ],
   "source": [
    "print(\"Time taken in seconds: \", difference)\n",
    "print(tagged_seq)\n",
    "#print(test_run_base)"
   ]
  },
  {
   "cell_type": "code",
   "execution_count": 92,
   "metadata": {},
   "outputs": [],
   "source": [
    "# accuracy\n",
    "check = [i for i, j in zip(tagged_seq, test_run_base) if i == j] "
   ]
  },
  {
   "cell_type": "code",
   "execution_count": 93,
   "metadata": {},
   "outputs": [
    {
     "data": {
      "text/plain": [
       "0.8881118881118881"
      ]
     },
     "execution_count": 93,
     "metadata": {},
     "output_type": "execute_result"
    }
   ],
   "source": [
    "accuracy = len(check)/len(tagged_seq)\n",
    "accuracy"
   ]
  },
  {
   "cell_type": "code",
   "execution_count": 94,
   "metadata": {},
   "outputs": [],
   "source": [
    "incorrect_tagged_cases = [[test_run_base[i-1],j] for i, j in enumerate(zip(tagged_seq, test_run_base)) if j[0]!=j[1]]"
   ]
  },
  {
   "cell_type": "code",
   "execution_count": 95,
   "metadata": {
    "scrolled": true
   },
   "outputs": [
    {
     "data": {
      "text/plain": [
       "[[('well-known', 'ADJ'),\n",
       "  (('detective-story', 'ADJ'), ('detective-story', 'NOUN'))],\n",
       " [(',', '.'), (('English', 'NOUN'), ('English', 'ADJ'))],\n",
       " [('English', 'ADJ'), (('novelist', 'ADJ'), ('novelist', 'NOUN'))],\n",
       " [('*T*-1', 'X'), (('finds', 'ADJ'), ('finds', 'VERB'))],\n",
       " [('its', 'PRON'), (('satisfaction', 'ADJ'), ('satisfaction', 'NOUN'))],\n",
       " [('mathematical', 'ADJ'),\n",
       "  (('completeness', 'ADJ'), ('completeness', 'NOUN'))],\n",
       " [('mechanical', 'ADJ'), (('perfection', 'ADJ'), ('perfection', 'NOUN'))],\n",
       " [('the', 'DET'), (('very', 'ADV'), ('very', 'ADJ'))],\n",
       " [('very', 'ADJ'), (('building', 'VERB'), ('building', 'NOUN'))],\n",
       " [('*ICH*-4', 'X'), (('that', 'ADP'), ('that', 'DET'))],\n",
       " [(',', '.'), (('though', 'ADP'), ('though', 'ADV'))],\n",
       " [('such', 'ADJ'), (('close', 'NOUN'), ('close', 'ADJ'))],\n",
       " [('acquiring', 'VERB'), (('more', 'ADV'), ('more', 'ADJ'))],\n",
       " [('announced', 'VERB'), (('*-118', 'ADJ'), ('*-118', 'X'))],\n",
       " [('which', 'DET'), (('*T*-192', 'ADJ'), ('*T*-192', 'X'))],\n",
       " [('$', '.'), (('1,298', 'ADJ'), ('1,298', 'NUM'))]]"
      ]
     },
     "execution_count": 95,
     "metadata": {},
     "output_type": "execute_result"
    }
   ],
   "source": [
    "incorrect_tagged_cases"
   ]
  },
  {
   "cell_type": "markdown",
   "metadata": {},
   "source": [
    "#### Testing on the test set"
   ]
  },
  {
   "cell_type": "code",
   "execution_count": 96,
   "metadata": {},
   "outputs": [],
   "source": [
    "sentence_test = \"Android is a mobile operating system developed by Google. Android has been the best-selling OS worldwide on smartphones since 2011 and on tablets since 2013. Google and Twitter made a deal in 2015 that gave Google access to Twitter's firehose. Twitter is an online news and social networking service on which users post and interact with messages known as tweets. Before entering politics, Donald Trump was a domineering businessman and a television personality. The 2018 FIFA World Cup is the 21st FIFA World Cup, an international football tournament contested once every four years. This is the first World Cup to be held in Eastern Europe and the 11th time that it has been held in Europe. Show me the cheapest round trips from Dallas to Atlanta I would like to see flights from Denver to Philadelphia. Show me the price of the flights leaving Atlanta at about 3 in the afternoon and arriving in San Francisco. NASA invited social media users to experience the launch of ICESAT-2 Satellite.\"\n",
    "words = word_tokenize(sentence_test)\n",
    "\n",
    "start = time.time()\n",
    "tagged_seq = Viterbi(words)\n",
    "end = time.time()\n",
    "difference = end-start"
   ]
  },
  {
   "cell_type": "code",
   "execution_count": 97,
   "metadata": {},
   "outputs": [
    {
     "name": "stdout",
     "output_type": "stream",
     "text": [
      "[('Android', 'ADJ'), ('is', 'VERB'), ('a', 'DET'), ('mobile', 'ADJ'), ('operating', 'NOUN'), ('system', 'NOUN'), ('developed', 'VERB'), ('by', 'ADP'), ('Google', 'ADJ'), ('.', '.'), ('Android', 'ADJ'), ('has', 'VERB'), ('been', 'VERB'), ('the', 'DET'), ('best-selling', 'ADJ'), ('OS', 'ADJ'), ('worldwide', 'ADJ'), ('on', 'ADP'), ('smartphones', 'ADJ'), ('since', 'ADP'), ('2011', 'ADJ'), ('and', 'CONJ'), ('on', 'ADP'), ('tablets', 'NOUN'), ('since', 'ADP'), ('2013', 'ADJ'), ('.', '.'), ('Google', 'ADJ'), ('and', 'CONJ'), ('Twitter', 'ADJ'), ('made', 'VERB'), ('a', 'DET'), ('deal', 'NOUN'), ('in', 'ADP'), ('2015', 'ADJ'), ('that', 'ADP'), ('gave', 'VERB'), ('Google', 'ADJ'), ('access', 'NOUN'), ('to', 'PRT'), ('Twitter', 'ADJ'), (\"'s\", 'PRT'), ('firehose', 'ADJ'), ('.', '.'), ('Twitter', 'ADJ'), ('is', 'VERB'), ('an', 'DET'), ('online', 'ADJ'), ('news', 'NOUN'), ('and', 'CONJ'), ('social', 'ADJ'), ('networking', 'NOUN'), ('service', 'NOUN'), ('on', 'ADP'), ('which', 'DET'), ('users', 'NOUN'), ('post', 'NOUN'), ('and', 'CONJ'), ('interact', 'ADJ'), ('with', 'ADP'), ('messages', 'ADJ'), ('known', 'VERB'), ('as', 'ADP'), ('tweets', 'ADJ'), ('.', '.'), ('Before', 'ADP'), ('entering', 'VERB'), ('politics', 'NOUN'), (',', '.'), ('Donald', 'NOUN'), ('Trump', 'NOUN'), ('was', 'VERB'), ('a', 'DET'), ('domineering', 'ADJ'), ('businessman', 'NOUN'), ('and', 'CONJ'), ('a', 'DET'), ('television', 'NOUN'), ('personality', 'ADJ'), ('.', '.'), ('The', 'DET'), ('2018', 'ADJ'), ('FIFA', 'ADJ'), ('World', 'NOUN'), ('Cup', 'ADJ'), ('is', 'VERB'), ('the', 'DET'), ('21st', 'ADJ'), ('FIFA', 'ADJ'), ('World', 'NOUN'), ('Cup', 'ADJ'), (',', '.'), ('an', 'DET'), ('international', 'ADJ'), ('football', 'NOUN'), ('tournament', 'ADJ'), ('contested', 'ADJ'), ('once', 'ADV'), ('every', 'DET'), ('four', 'NUM'), ('years', 'NOUN'), ('.', '.'), ('This', 'DET'), ('is', 'VERB'), ('the', 'DET'), ('first', 'ADJ'), ('World', 'NOUN'), ('Cup', 'ADJ'), ('to', 'PRT'), ('be', 'VERB'), ('held', 'VERB'), ('in', 'ADP'), ('Eastern', 'NOUN'), ('Europe', 'NOUN'), ('and', 'CONJ'), ('the', 'DET'), ('11th', 'ADJ'), ('time', 'NOUN'), ('that', 'ADP'), ('it', 'PRON'), ('has', 'VERB'), ('been', 'VERB'), ('held', 'VERB'), ('in', 'ADP'), ('Europe', 'NOUN'), ('.', '.'), ('Show', 'NOUN'), ('me', 'PRON'), ('the', 'DET'), ('cheapest', 'ADJ'), ('round', 'NOUN'), ('trips', 'ADJ'), ('from', 'ADP'), ('Dallas', 'NOUN'), ('to', 'PRT'), ('Atlanta', 'NOUN'), ('I', 'PRON'), ('would', 'VERB'), ('like', 'ADP'), ('to', 'PRT'), ('see', 'VERB'), ('flights', 'NOUN'), ('from', 'ADP'), ('Denver', 'NOUN'), ('to', 'PRT'), ('Philadelphia', 'NOUN'), ('.', '.'), ('Show', 'NOUN'), ('me', 'PRON'), ('the', 'DET'), ('price', 'NOUN'), ('of', 'ADP'), ('the', 'DET'), ('flights', 'NOUN'), ('leaving', 'VERB'), ('Atlanta', 'NOUN'), ('at', 'ADP'), ('about', 'ADP'), ('3', 'NUM'), ('in', 'ADP'), ('the', 'DET'), ('afternoon', 'NOUN'), ('and', 'CONJ'), ('arriving', 'ADJ'), ('in', 'ADP'), ('San', 'NOUN'), ('Francisco', 'NOUN'), ('.', '.'), ('NASA', 'ADJ'), ('invited', 'ADJ'), ('social', 'ADJ'), ('media', 'NOUN'), ('users', 'NOUN'), ('to', 'PRT'), ('experience', 'NOUN'), ('the', 'DET'), ('launch', 'NOUN'), ('of', 'ADP'), ('ICESAT-2', 'ADJ'), ('Satellite', 'ADJ'), ('.', '.')]\n",
      "45.55137872695923\n"
     ]
    }
   ],
   "source": [
    "print(tagged_seq)\n",
    "print(difference)"
   ]
  },
  {
   "cell_type": "markdown",
   "metadata": {},
   "source": [
    "### Solve the problem of unknown words"
   ]
  },
  {
   "cell_type": "markdown",
   "metadata": {},
   "source": [
    "#### Method 1: Using Unigram Tagger to deal with Unknown Words"
   ]
  },
  {
   "cell_type": "code",
   "execution_count": 122,
   "metadata": {},
   "outputs": [
    {
     "data": {
      "text/plain": [
       "0.9109286165508528"
      ]
     },
     "execution_count": 122,
     "metadata": {},
     "output_type": "execute_result"
    }
   ],
   "source": [
    "# Lexicon (or unigram tagger)\n",
    "unigram_tagger = nltk.UnigramTagger(train_set)\n",
    "unigram_tagger.evaluate(val_set)"
   ]
  },
  {
   "cell_type": "markdown",
   "metadata": {},
   "source": [
    "Hence in the UniGram tagger method for Unknown words we get an accuracy of 91%. Which is better than the vanilla viterbi model."
   ]
  },
  {
   "cell_type": "markdown",
   "metadata": {},
   "source": [
    "#### Method 2 : Rule-based (Regular Expression) Tagger to solve the Unknown words issue "
   ]
  },
  {
   "cell_type": "code",
   "execution_count": 123,
   "metadata": {},
   "outputs": [],
   "source": [
    "patterns = [\n",
    "    (r'[aA-zZ]+(ed|ing|es)$', 'VERB'), # All tenses of verb are tagged to 'VERB'\n",
    "    (r'^-?[0-9]+(.[0-9]+)?$', 'X'),   # cardinal numbers\n",
    "    (r'(The|the|A|a|An|an)$', 'DET'),   # articles or determiners\n",
    "    (r'.*able$', 'ADJ'),                # adjectives\n",
    "    (r'.*ness$', 'NOUN'),                # nouns formed from adjectives  \n",
    "    (r'.*ly$', 'ADV'),                  # adverbs\n",
    "         (r'.*s$', 'NOUN'),                  # plural nouns  \n",
    "         (r'.*', 'NOUN')                      # nouns (default)\n",
    "        ]"
   ]
  },
  {
   "cell_type": "code",
   "execution_count": 124,
   "metadata": {},
   "outputs": [],
   "source": [
    "re_tagger = nltk.RegexpTagger(patterns)"
   ]
  },
  {
   "cell_type": "code",
   "execution_count": 127,
   "metadata": {},
   "outputs": [
    {
     "data": {
      "text/plain": [
       "0.9481996209728364"
      ]
     },
     "execution_count": 127,
     "metadata": {},
     "output_type": "execute_result"
    }
   ],
   "source": [
    "# rule based tagger\n",
    "rule_based_tagger = nltk.RegexpTagger(patterns)\n",
    "\n",
    "# lexicon backed up by the rule-based tagger\n",
    "lexicon_tagger = nltk.UnigramTagger(train_set, backoff=rule_based_tagger)\n",
    "\n"
   ]
  },
  {
   "cell_type": "markdown",
   "metadata": {},
   "source": [
    "#### Evaluating tagging accuracy"
   ]
  },
  {
   "cell_type": "markdown",
   "metadata": {},
   "source": [
    "##### Method 1 : Unigram Tagger Accuracy"
   ]
  },
  {
   "cell_type": "code",
   "execution_count": 129,
   "metadata": {
    "scrolled": true
   },
   "outputs": [
    {
     "data": {
      "text/plain": [
       "0.9109286165508528"
      ]
     },
     "execution_count": 129,
     "metadata": {},
     "output_type": "execute_result"
    }
   ],
   "source": [
    "unigram_tagger.evaluate(val_set)"
   ]
  },
  {
   "cell_type": "markdown",
   "metadata": {},
   "source": [
    "##### Method 2: Rule based- Regex Tagger Accuracy"
   ]
  },
  {
   "cell_type": "code",
   "execution_count": 131,
   "metadata": {},
   "outputs": [
    {
     "data": {
      "text/plain": [
       "0.9481996209728364"
      ]
     },
     "execution_count": 131,
     "metadata": {},
     "output_type": "execute_result"
    }
   ],
   "source": [
    "lexicon_tagger.evaluate(val_set)"
   ]
  },
  {
   "cell_type": "markdown",
   "metadata": {},
   "source": [
    "### Compare the tagging accuracies of the modifications with the vanilla Viterbi algorithm"
   ]
  },
  {
   "cell_type": "markdown",
   "metadata": {},
   "source": [
    "We can observe that with Method 1 : Unigram Tagger we do not see much efficiency increase. However we see a drastic increase in the accuracy with the Rule-based tagger. "
   ]
  },
  {
   "cell_type": "code",
   "execution_count": 137,
   "metadata": {},
   "outputs": [
    {
     "name": "stdout",
     "output_type": "stream",
     "text": [
      "Accuracy of Plain Vanilla Viterbi = 0.8881118881118881\n",
      "Accuracy of Viterbi with Unigram Tagger = 0.9109286165508528\n",
      "Accuracy of Viterbi with Rule Based Tagger = 0.9481996209728364\n"
     ]
    }
   ],
   "source": [
    "print ('Accuracy of Plain Vanilla Viterbi =' , accuracy)\n",
    "print ('Accuracy of Viterbi with Unigram Tagger =' , unigram_tagger.evaluate(val_set))\n",
    "print ('Accuracy of Viterbi with Rule Based Tagger =' , lexicon_tagger.evaluate(val_set))"
   ]
  },
  {
   "cell_type": "markdown",
   "metadata": {},
   "source": [
    "### List down cases which were incorrectly tagged by original POS tagger and got corrected by your modifications"
   ]
  },
  {
   "cell_type": "markdown",
   "metadata": {},
   "source": [
    "Following is the list of Word | Tag combinations which were tagged incorrectly and got modified by the Tagger"
   ]
  },
  {
   "cell_type": "code",
   "execution_count": 133,
   "metadata": {},
   "outputs": [
    {
     "data": {
      "text/plain": [
       "[[('well-known', 'ADJ'),\n",
       "  (('detective-story', 'ADJ'), ('detective-story', 'NOUN'))],\n",
       " [(',', '.'), (('English', 'NOUN'), ('English', 'ADJ'))],\n",
       " [('English', 'ADJ'), (('novelist', 'ADJ'), ('novelist', 'NOUN'))],\n",
       " [('*T*-1', 'X'), (('finds', 'ADJ'), ('finds', 'VERB'))],\n",
       " [('its', 'PRON'), (('satisfaction', 'ADJ'), ('satisfaction', 'NOUN'))],\n",
       " [('mathematical', 'ADJ'),\n",
       "  (('completeness', 'ADJ'), ('completeness', 'NOUN'))],\n",
       " [('mechanical', 'ADJ'), (('perfection', 'ADJ'), ('perfection', 'NOUN'))],\n",
       " [('the', 'DET'), (('very', 'ADV'), ('very', 'ADJ'))],\n",
       " [('very', 'ADJ'), (('building', 'VERB'), ('building', 'NOUN'))],\n",
       " [('*ICH*-4', 'X'), (('that', 'ADP'), ('that', 'DET'))],\n",
       " [(',', '.'), (('though', 'ADP'), ('though', 'ADV'))],\n",
       " [('such', 'ADJ'), (('close', 'NOUN'), ('close', 'ADJ'))],\n",
       " [('acquiring', 'VERB'), (('more', 'ADV'), ('more', 'ADJ'))],\n",
       " [('announced', 'VERB'), (('*-118', 'ADJ'), ('*-118', 'X'))],\n",
       " [('which', 'DET'), (('*T*-192', 'ADJ'), ('*T*-192', 'X'))],\n",
       " [('$', '.'), (('1,298', 'ADJ'), ('1,298', 'NUM'))]]"
      ]
     },
     "execution_count": 133,
     "metadata": {},
     "output_type": "execute_result"
    }
   ],
   "source": [
    "Recitified_Tags = incorrect_tagged_cases\n",
    "Recitified_Tags"
   ]
  }
 ],
 "metadata": {
  "kernelspec": {
   "display_name": "Python 3",
   "language": "python",
   "name": "python3"
  },
  "language_info": {
   "codemirror_mode": {
    "name": "ipython",
    "version": 3
   },
   "file_extension": ".py",
   "mimetype": "text/x-python",
   "name": "python",
   "nbconvert_exporter": "python",
   "pygments_lexer": "ipython3",
   "version": "3.7.4"
  }
 },
 "nbformat": 4,
 "nbformat_minor": 2
}
